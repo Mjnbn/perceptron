{
 "cells": [
  {
   "cell_type": "code",
   "execution_count": null,
   "id": "initial_id",
   "metadata": {
    "ExecuteTime": {
     "end_time": "2024-03-19T13:41:15.089546Z",
     "start_time": "2024-03-19T13:41:15.075860Z"
    },
    "collapsed": true
   },
   "outputs": [],
   "source": []
  },
  {
   "cell_type": "markdown",
   "id": "38b205c11d11b637",
   "metadata": {
    "collapsed": false
   },
   "source": [
    "<div dir=\"rtl\">\n",
    "با استفاده از تابع make_blobs داده هایی با دو ویژگی و دو کلاس تولید میکنیم. این تابع دیتاستی به ما میدهد که به صورت خطی جدایی پذیر است.\n",
    "هر داده یک برچسب 0 یا 1 دارد که به ترتیب به معنای منفی و مثبت بودن عدد داده شده است.\n",
    "</div>"
   ]
  },
  {
   "cell_type": "code",
   "execution_count": 41,
   "id": "919ab4bdbec2475",
   "metadata": {
    "ExecuteTime": {
     "end_time": "2024-03-19T13:41:15.105690Z",
     "start_time": "2024-03-19T13:41:15.080749Z"
    },
    "collapsed": false
   },
   "outputs": [],
   "source": [
    "from sklearn.datasets import make_blobs\n",
    "X, y = make_blobs(n_samples=100, n_features=2, centers=2, random_state=41)"
   ]
  },
  {
   "cell_type": "markdown",
   "id": "2cbb37d6f95b0c02",
   "metadata": {
    "collapsed": false
   },
   "source": [
    "<div dir=\"rtl\">\n",
    "کلاس F یک کلاس استاتیک است که یک تابع دارد که عدد ورودی را چک میکند و اگر عدد مثبت یا صفر باشد 1 و در غیر اینصورت 0 برمیگرداند.\n",
    "</div>"
   ]
  },
  {
   "cell_type": "code",
   "execution_count": 42,
   "id": "9c3804a6740f987f",
   "metadata": {
    "ExecuteTime": {
     "end_time": "2024-03-19T13:41:15.106063Z",
     "start_time": "2024-03-19T13:41:15.084060Z"
    },
    "collapsed": false
   },
   "outputs": [],
   "source": [
    "class F:\n",
    "    @staticmethod\n",
    "    def sign(x):\n",
    "        return 1 if x >= 0 else 0"
   ]
  },
  {
   "cell_type": "markdown",
   "id": "f42fb1c711396f5a",
   "metadata": {
    "collapsed": false
   },
   "source": [
    "<div dir=\"rtl\">\n",
    "یک شبکه عصبی ساده که یک لایه دارد و هر نورون از نوع پرسپترون است را پیاده سازی میکنیم.\n",
    "ابتدا وزن ها و بایاس های مدل را به صورت رندوم مقداردهی اولیه میکنیم.\n",
    "سپس در تابع فوروارد با استفاده از ورن و بایاس نود و ورودی نود خروجی آن را به کمک تابع ساین اکتیویشن مشخص میکنیم.\n",
    "</div>"
   ]
  },
  {
   "cell_type": "code",
   "execution_count": 43,
   "id": "14af374eccdecd4",
   "metadata": {
    "ExecuteTime": {
     "end_time": "2024-03-19T13:41:15.106726Z",
     "start_time": "2024-03-19T13:41:15.087729Z"
    },
    "collapsed": false
   },
   "outputs": [],
   "source": [
    "import numpy as np\n",
    "\n",
    "class Perceptron:\n",
    "    def __init__(self, input_size):\n",
    "        # Initialize the weights and biases of the new model\n",
    "        self.weights = np.random.rand(input_size)\n",
    "        self.bias = np.random.rand(1)\n",
    "        \n",
    "    def forward(self, input):\n",
    "        # Feed input features to your model and return output\n",
    "        return F.sign(np.dot(input, self.weights) + self.bias)\n"
   ]
  },
  {
   "attachments": {},
   "cell_type": "markdown",
   "id": "1326224f30503801",
   "metadata": {
    "collapsed": false
   },
   "source": [
    "<div dir=\"rtl\">\n",
    "یک کلاس به نام اپتیمایزر داریم که یک مدل را به عنوان ورودی میگیرد و متدی دارد که وزن ها و بایاس های مدل را بروزرسانی میکند.\n",
    "برای بروزرسانی وزن ها و بایاس هااز الگوریتم یادگیری پرسپترون استفاده میکنیم.\n",
    "</div>"
   ]
  },
  {
   "cell_type": "code",
   "execution_count": 44,
   "id": "44b476a6a86889a9",
   "metadata": {
    "ExecuteTime": {
     "end_time": "2024-03-19T13:41:15.107117Z",
     "start_time": "2024-03-19T13:41:15.091054Z"
    },
    "collapsed": false
   },
   "outputs": [],
   "source": [
    "class Optimizer:\n",
    "    def __init__(self, model):\n",
    "        self.model = model\n",
    "    def update(self, x, y, y_hat):\n",
    "        # Update weight and bias of the model\n",
    "        self.model.weights -= (y_hat - y) * x\n",
    "        self.model.bias -= (y_hat - y)"
   ]
  },
  {
   "cell_type": "markdown",
   "id": "5496095ac566bc9b",
   "metadata": {
    "collapsed": false
   },
   "source": [
    "<div dir=\"rtl\">\n",
    "حال مدل را ایجاد میکنیم و از اپتیمایزر برای بهینه سازی آن استفاده میکنیم.\n",
    "</div>"
   ]
  },
  {
   "cell_type": "code",
   "execution_count": 45,
   "id": "9c0718ad013723ee",
   "metadata": {
    "ExecuteTime": {
     "end_time": "2024-03-19T13:41:15.117037Z",
     "start_time": "2024-03-19T13:41:15.108277Z"
    },
    "collapsed": false
   },
   "outputs": [],
   "source": [
    "perceptron = Perceptron(2)\n",
    "optimizer = Optimizer(perceptron)\n",
    "\n"
   ]
  },
  {
   "cell_type": "markdown",
   "id": "5f4a498002c3f355",
   "metadata": {
    "collapsed": false
   },
   "source": [
    "<div dir=\"rtl\">\n",
    "حلقه اصلی یادگیری را اجرا میکنیم.\n",
    "در این حلقه ۱۰۰۰ ایتریشن انجام میدهیم و در هر ایتریشن بردار داده هارا یکی یکی به مدل میدهیم و وزن ها و بایاس ها را بروزرسانی میکنیم.\n",
    "</div>"
   ]
  },
  {
   "cell_type": "code",
   "execution_count": 46,
   "id": "6df063858f60e95c",
   "metadata": {
    "ExecuteTime": {
     "end_time": "2024-03-19T13:41:16.093287Z",
     "start_time": "2024-03-19T13:41:15.118811Z"
    },
    "collapsed": false
   },
   "outputs": [],
   "source": [
    "n_iter = 1000\n",
    "\n",
    "for i in range(n_iter):\n",
    "    for x_i, y_i in zip(X, y):\n",
    "        y_hat = perceptron.forward(x_i)\n",
    "        optimizer.update(x_i, y_i, y_hat)"
   ]
  },
  {
   "cell_type": "markdown",
   "id": "de271473c6b3d9d5",
   "metadata": {
    "collapsed": false
   },
   "source": [
    "<div dir=\"rtl\">\n",
    "دقت مدل را حساب کرده و نمایش میدهیم\n",
    "</div>"
   ]
  },
  {
   "cell_type": "code",
   "execution_count": 47,
   "id": "49e57cc401646124",
   "metadata": {
    "ExecuteTime": {
     "end_time": "2024-03-19T13:41:16.097874Z",
     "start_time": "2024-03-19T13:41:16.095088Z"
    },
    "collapsed": false
   },
   "outputs": [
    {
     "name": "stdout",
     "output_type": "stream",
     "text": [
      "1.0\n"
     ]
    }
   ],
   "source": [
    "y_hat = [perceptron.forward(x_i) for x_i in X]\n",
    "accuracy = np.mean(y_hat == y)\n",
    "print(accuracy)"
   ]
  },
  {
   "cell_type": "code",
   "execution_count": null,
   "id": "6aa83368a7ef3fb8",
   "metadata": {
    "collapsed": false
   },
   "outputs": [],
   "source": []
  },
  {
   "cell_type": "markdown",
   "id": "8ed4b820d6c17fa5",
   "metadata": {
    "collapsed": false
   },
   "source": [
    "<div dir=\"rtl\">\n",
    "داده ها و خطی که مدل یاد گرفته است را نمایش میدهیم.\n",
    "</div>"
   ]
  },
  {
   "cell_type": "code",
   "execution_count": 48,
   "id": "3aae611dfd80f39f",
   "metadata": {
    "ExecuteTime": {
     "end_time": "2024-03-19T13:41:16.166066Z",
     "start_time": "2024-03-19T13:41:16.100582Z"
    },
    "collapsed": false
   },
   "outputs": [
    {
     "data": {
      "image/png": "[encoded data removed]",
      "text/plain": [
       "<Figure size 640x480 with 1 Axes>"
      ]
     },
     "metadata": {},
     "output_type": "display_data"
    }
   ],
   "source": [
    "import matplotlib.pyplot as plt\n",
    "\n",
    "# show the data and the line that the perceptron has learned\n",
    "plt.scatter(X[:, 0], X[:, 1], c=y)\n",
    "plt.plot(X, (-perceptron.weights[0] * X - perceptron.bias) / perceptron.weights[1])\n",
    "plt.show()"
   ]
  },
  {
   "cell_type": "code",
   "execution_count": null,
   "id": "d62142d47b494711",
   "metadata": {
    "ExecuteTime": {
     "end_time": "2024-03-19T13:41:16.171262Z",
     "start_time": "2024-03-19T13:41:16.164669Z"
    },
    "collapsed": false
   },
   "outputs": [],
   "source": []
  }
 ],
 "metadata": {
  "kernelspec": {
   "display_name": "Python 3",
   "language": "python",
   "name": "python3"
  },
  "language_info": {
   "codemirror_mode": {
    "name": "ipython",
    "version": 3
   },
   "file_extension": ".py",
   "mimetype": "text/x-python",
   "name": "python",
   "nbconvert_exporter": "python",
   "pygments_lexer": "ipython3",
   "version": "3.10.9"
  },
  "vscode": {
   "interpreter": {
    "hash": "aee8b7b246df8f9039afb4144a1f6fd8d2ca17a180786b69acc140d282b71a49"
   }
  }
 },
 "nbformat": 4,
 "nbformat_minor": 5
}
